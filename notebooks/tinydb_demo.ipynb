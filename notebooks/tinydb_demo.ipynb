{
 "cells": [
  {
   "cell_type": "markdown",
   "metadata": {},
   "source": [
    "# Tinydb Demonstration\n",
    "\n",
    "Tinydb saves as `json`.\n",
    "\n",
    "First create a list of tasks."
   ]
  },
  {
   "cell_type": "code",
   "execution_count": 1,
   "metadata": {},
   "outputs": [
    {
     "data": {
      "text/plain": [
       "2"
      ]
     },
     "execution_count": 1,
     "metadata": {},
     "output_type": "execute_result"
    }
   ],
   "source": [
    "from tinydb import TinyDB, Query\n",
    "\n",
    "db = TinyDB(\"../data/all_the_data.json\", indent=4)\n",
    "environments_table = db.table('environments')\n",
    "environments_table.truncate()  # Clear the table\n",
    "\n",
    "environment1 = {\"name\": \"first_customer\"}\n",
    "environment2 = {\"name\": \"second_customer\"}\n",
    "\n",
    "environments_table.insert(environment1)\n",
    "environments_table.insert(environment2)"
   ]
  },
  {
   "cell_type": "markdown",
   "metadata": {},
   "source": [
    "Then take a look at the saved file."
   ]
  },
  {
   "cell_type": "code",
   "execution_count": 2,
   "metadata": {},
   "outputs": [
    {
     "name": "stdout",
     "output_type": "stream",
     "text": [
      "{\n",
      "    \"_default\": {},\n",
      "    \"environments\": {\n",
      "        \"1\": {\n",
      "            \"name\": \"first_customer\"\n",
      "        },\n",
      "        \"2\": {\n",
      "            \"name\": \"second_customer\"\n",
      "        }\n",
      "    }\n",
      "}\n"
     ]
    }
   ],
   "source": [
    "import json\n",
    "\n",
    "with open(\"../data/all_the_data.json\", \"r\") as f:\n",
    "    data = f.read()\n",
    "    json_data = json.loads(data)\n",
    "\n",
    "print(json.dumps(json_data, indent=4))"
   ]
  },
  {
   "cell_type": "markdown",
   "metadata": {},
   "source": [
    "Retrieve one of the environments."
   ]
  },
  {
   "cell_type": "code",
   "execution_count": 3,
   "metadata": {},
   "outputs": [
    {
     "name": "stdout",
     "output_type": "stream",
     "text": [
      "{'name': 'first_customer'}\n"
     ]
    }
   ],
   "source": [
    "environment = Query()\n",
    "first_customer = environments_table.get(environment.name == \"first_customer\")\n",
    "print(first_customer)"
   ]
  },
  {
   "cell_type": "markdown",
   "metadata": {},
   "source": [
    "Then add sites to the customer."
   ]
  },
  {
   "cell_type": "code",
   "execution_count": 4,
   "metadata": {},
   "outputs": [
    {
     "data": {
      "text/plain": [
       "[1, 2]"
      ]
     },
     "execution_count": 4,
     "metadata": {},
     "output_type": "execute_result"
    }
   ],
   "source": [
    "site_list = [\n",
    "    {\n",
    "        \"contensis_project\": 1,\n",
    "        \"hostheader\": \"live-first.cloud.contensis.com\",\n",
    "        \"preview_server\": \"z-first\",\n",
    "        \"type\": \"LIVE\",\n",
    "    },\n",
    "    {\n",
    "        \"contensis_project\": 1,\n",
    "        \"hostheader\": \"preview-first.cloud.contensis.com\",\n",
    "        \"preview_server\": \"z-first\",\n",
    "        \"type\": \"TEST\",\n",
    "        \"use_ssl\": True,\n",
    "    },\n",
    "]\n",
    "\n",
    "first_customer[\"site_list\"] = site_list\n",
    "\n",
    "environments_table.update(first_customer)"
   ]
  },
  {
   "cell_type": "markdown",
   "metadata": {},
   "source": [
    "Now what does the data file look like."
   ]
  },
  {
   "cell_type": "code",
   "execution_count": 49,
   "metadata": {},
   "outputs": [
    {
     "name": "stdout",
     "output_type": "stream",
     "text": [
      "{\n",
      "    \"_default\": {},\n",
      "    \"environments\": {\n",
      "        \"1\": {\n",
      "            \"name\": \"first_customer\",\n",
      "            \"site_list\": [\n",
      "                {\n",
      "                    \"contensis_project\": 1,\n",
      "                    \"hostheader\": \"live-first.cloud.contensis.com\",\n",
      "                    \"preview_server\": \"z-first\",\n",
      "                    \"type\": \"LIVE\"\n",
      "                },\n",
      "                {\n",
      "                    \"contensis_project\": 1,\n",
      "                    \"hostheader\": \"preview-first.cloud.contensis.com\",\n",
      "                    \"preview_server\": \"z-first\",\n",
      "                    \"type\": \"TEST\",\n",
      "                    \"use_ssl\": true\n",
      "                }\n",
      "            ]\n",
      "        },\n",
      "        \"2\": {\n",
      "            \"name\": \"first_customer\",\n",
      "            \"site_list\": [\n",
      "                {\n",
      "                    \"contensis_project\": 1,\n",
      "                    \"hostheader\": \"live-first.cloud.contensis.com\",\n",
      "                    \"preview_server\": \"z-first\",\n",
      "                    \"type\": \"LIVE\"\n",
      "                },\n",
      "                {\n",
      "                    \"contensis_project\": 1,\n",
      "                    \"hostheader\": \"preview-first.cloud.contensis.com\",\n",
      "                    \"preview_server\": \"z-first\",\n",
      "                    \"type\": \"TEST\",\n",
      "                    \"use_ssl\": true\n",
      "                }\n",
      "            ]\n",
      "        }\n",
      "    }\n",
      "}\n"
     ]
    }
   ],
   "source": [
    "with open(\"../data/all_the_data.json\", \"r\") as f:\n",
    "    data = f.read()\n",
    "    json_data = json.loads(data)\n",
    "\n",
    "print(json.dumps(json_data, indent=4))"
   ]
  }
 ],
 "metadata": {
  "kernelspec": {
   "display_name": ".venv",
   "language": "python",
   "name": "python3"
  },
  "language_info": {
   "codemirror_mode": {
    "name": "ipython",
    "version": 3
   },
   "file_extension": ".py",
   "mimetype": "text/x-python",
   "name": "python",
   "nbconvert_exporter": "python",
   "pygments_lexer": "ipython3",
   "version": "3.12.3"
  }
 },
 "nbformat": 4,
 "nbformat_minor": 2
}
